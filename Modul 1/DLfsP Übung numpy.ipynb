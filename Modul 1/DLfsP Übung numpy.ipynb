{
 "cells": [
  {
   "cell_type": "markdown",
   "metadata": {},
   "source": [
    "# Deep Learning für sequentielle Prozessdaten - Übung numpy\n",
    "Kurs Deep Learning für sequentielle Prozessdaten\n",
    "\n",
    "#### In diesem Notebook wird der Umgang mit Python numpy und einigen wichtigen Befehlen geübt.\n",
    "Für Tensorflow ist die Arbeit mit Tensoren notwendig. Tensoren werden in Python primär mit numpy umgesetzt. Oft es für die Anwendung notwendig die Daten in entsprechende Form zu bringen. Um den Umgang mit numpy und Tensoren etwas zu üben, gibt es ein paar einfache Übungsaufgaben zum Start "
   ]
  },
  {
   "cell_type": "markdown",
   "metadata": {},
   "source": [
    "### 1. Bibliotheken importieren\n",
    " \n",
    "TODO:\n",
    "* Importiere numpy\n",
    "\n",
    "Hilfe: \n",
    "* Bei Python werden Pakete (engl. Packages) mit dem Befehl \"import\" importiert.  \n",
    "* Wichtige und oft verwendete Packages bekommen eine Abkürzung mit dem Befehl \"as\". Bei numpy wird meist die Abkürzung np verwendet. "
   ]
  },
  {
   "cell_type": "code",
   "execution_count": null,
   "metadata": {},
   "outputs": [],
   "source": [
    "# Importiere die numpy Bibliothek\n",
    "TODO"
   ]
  },
  {
   "cell_type": "markdown",
   "metadata": {},
   "source": [
    "### 2. Arrays erstellen\n",
    "\n",
    "TODO:\n",
    "* Erstelle folgenden Vektor $a = (1, 4, 9, 16, 25)$\n",
    "* Erstelle eine Matrix  \n",
    "$b =  \\begin{pmatrix}\n",
    "1.5 & 2 & 3\\\\\n",
    "6 & 7 & 3\n",
    "\\end{pmatrix}$\n",
    "\n",
    "Hilfe: \n",
    "* Einfache Vektoren können mit np.array([]) erstellt werden, \n",
    "* Eine Matrix kann mit np.array([(),()]),  \n",
    "wobei jeweils in der innersten Klammer die Werte stehen. \n",
    " "
   ]
  },
  {
   "cell_type": "code",
   "execution_count": null,
   "metadata": {},
   "outputs": [],
   "source": [
    "# Erstelle Vektor a\n",
    "a = TODO\n",
    "\n",
    "# Erstelle Matrix b\n",
    "b = TODO\n",
    "\n",
    "# Zur Überprüfung\n",
    "print('Vektor: ')\n",
    "print(a)\n",
    "print('Matrix: ')\n",
    "print(b)"
   ]
  },
  {
   "cell_type": "markdown",
   "metadata": {},
   "source": [
    "### 3. Dimension und Form \n",
    "\n",
    "TODO: \n",
    "* Lasse jeweils von a und b die Form ausgeben\n",
    "* Wie viele Dimensionen besitzen a und b?\n",
    "\n",
    "Hilfe: \n",
    "* Nutze den shape Befehl für die Form\n",
    "* Nutze den ndim Befehl für die Anzahl der Dimensionen\n",
    "\n",
    "Anmerkung: \n",
    "* Nutzen Sie den Print Befehl, um sich mehrere Ergebnisse anzeigen zu lassen\n",
    "* Ansonsten zeigt Jupyter nur das letzte Ergebnis an"
   ]
  },
  {
   "cell_type": "code",
   "execution_count": null,
   "metadata": {},
   "outputs": [],
   "source": [
    "# Lasse die Form von a ausgeben\n",
    "TODO\n",
    "\n",
    "# Lasse die Form von b ausgeben\n",
    "TODO"
   ]
  },
  {
   "cell_type": "markdown",
   "metadata": {},
   "source": [
    "### 4. Datentyp des Arrays\n",
    "TODO: \n",
    "* Lasse jeweils von a und b den Datentyp ausgeben\n",
    "\n",
    "Hilfe: \n",
    "* Nutze den dtype Befehl \n"
   ]
  },
  {
   "cell_type": "code",
   "execution_count": null,
   "metadata": {},
   "outputs": [],
   "source": [
    "# Lasse den Typ von a ausgeben\n",
    "TODO\n",
    "\n",
    "# Lasse den Typ von b ausgeben\n",
    "TODO"
   ]
  },
  {
   "cell_type": "markdown",
   "metadata": {},
   "source": [
    "### 5. Arrays erzeugen\n",
    "TODO: \n",
    "* Erzeuge einen Vektor d der Länge 5 mit den Einträgen von 1 bis 6\n",
    "* Erzeuge einen Vektor e der Länge 27 mit den Elementen 1 \n",
    "* Erzeuge eine 3x3 Matrix f mit Nullen\n",
    "\n",
    "Hilfe: \n",
    "* Für die Erzeugung spezieller Vektoren und Arrays gibt die besonderen Befehle wie linspace, ones und zeros."
   ]
  },
  {
   "cell_type": "code",
   "execution_count": null,
   "metadata": {},
   "outputs": [],
   "source": [
    "#Erzeuge die Variablen d, e und f\n",
    "d = TODO\n",
    "e = TODO\n",
    "f = TODO\n",
    "\n",
    "# Zur Überprüfung\n",
    "print('Vektor von 1 bis 6:')\n",
    "print(d)\n",
    "print('Einsvektor der Länge 27:')\n",
    "print(e)\n",
    "print('3x3 Nullmatrix:')\n",
    "print(f)"
   ]
  },
  {
   "cell_type": "markdown",
   "metadata": {},
   "source": [
    "### 6. Vektoren umformen / reshapen\n",
    "TODO: \n",
    "* Erzeuge aus dem Einsvektor e eine 3 dimensionales Array (3x3x3) g\n",
    "* Erzeuge aus der Matrix b einen Vektor h\n",
    "\n",
    "Hilfe:\n",
    "* Die Befehle flatten und ravel machen aus mehrdimensionalen Array eindimensionale Vektoren\n",
    "* Mit dem Befehl reshape kann man die Dimension des Arrays ändern, die neue Form muss mit angegeben werden"
   ]
  },
  {
   "cell_type": "code",
   "execution_count": null,
   "metadata": {},
   "outputs": [],
   "source": [
    "g = TODO\n",
    "h = TODO\n",
    "\n",
    "# Zur Überprüfung\n",
    "print('Einsvektor als 3D Array:')\n",
    "print(g)\n",
    "print('b als Vektor:')\n",
    "print(h)"
   ]
  },
  {
   "cell_type": "markdown",
   "metadata": {},
   "source": [
    "### 7. Zugriff auf einzelne Elemente\n",
    "TODO:\n",
    "* Lasse den ersten Eintrag (1.5) von h in eine Variable i geben\n",
    "* Lasse das 3 Element von d in eine Variable j geben\n",
    "* Lasse aus der Matrix b den Wert aus der 2.  Zeile und 1. Spalte in eine Variable k geben\n",
    "\n",
    "Hilfe: \n",
    "* Zugriff auf die Werte eines Array hat man über \"[]\", wobei die Position des Wertes angeben werden muss\n",
    "* Achtung, Python bzw. numpy beginnt bei 0 zu zählen"
   ]
  },
  {
   "cell_type": "code",
   "execution_count": null,
   "metadata": {},
   "outputs": [],
   "source": [
    "i = TODO\n",
    "j = TODO\n",
    "k = TODO\n",
    "\n",
    "print('Erster Eintrag von h:')\n",
    "print(i)\n",
    "print('3. Element von d, zur Kontrolle 3 sollte rauskommen:')\n",
    "print(j)\n",
    "print('Element 2. Zeile und 1. Spalte von b:')\n",
    "print(k)"
   ]
  },
  {
   "cell_type": "markdown",
   "metadata": {},
   "source": [
    "### 8. Zugriff auf einzelne Subarrays\n",
    "TODO:\n",
    "* Lasse die letzte Spalte der Matrix b in eine Variable l geben\n",
    "* Lasse die Elemente in Zeile 1 und Spalte 2 und 3 b in eine Variable m geben\n",
    "\n",
    "Hilfe: \n",
    "* Will man keinen einzelnen Wert, sondern die mehrere oder alle einer Dimension, also bspw. Zeile oder Spalte, so wird der Bereich mit \"Start:Ende\" angegeben\n",
    "* Lässt man den Start bzw. den Ende Wert dabei weg, so nimmt Python bzw. numpy selbsständig den Start bzw. Ende"
   ]
  },
  {
   "cell_type": "code",
   "execution_count": null,
   "metadata": {},
   "outputs": [],
   "source": [
    "l = TODO\n",
    "m = TODO\n",
    "\n",
    "print('Letzte Spalte von b:')\n",
    "print(l)\n",
    "print('3. Element von d, zur Kontrolle 3 sollte rauskommen:')\n",
    "print(m)"
   ]
  },
  {
   "cell_type": "markdown",
   "metadata": {},
   "source": [
    "### 9. Arrays kombinieren \n",
    "TODO:\n",
    "* Füge dem Vektor d zu dem Vektor a hinzu \n",
    "* Erzeuge aus b und f eine 5x3 Matrix\n",
    "\n",
    "Hilfe: \n",
    "* Ein Array an ein anderes Array zu hängen geht mit dem Befehl append\n",
    "* Zwei Arrays könnnen auch mit dem Befehl concatenate kombiniert werden "
   ]
  },
  {
   "cell_type": "code",
   "execution_count": null,
   "metadata": {},
   "outputs": [],
   "source": [
    "n = TODO\n",
    "o = TODO\n",
    "\n",
    "print('Kombinierter Vektor a und d:')\n",
    "print(n)\n",
    "print('5x3 Matrix aus b und f:')\n",
    "print(o)"
   ]
  },
  {
   "cell_type": "markdown",
   "metadata": {},
   "source": [
    "### 10. Bonusaufgabe\n",
    "TODO:\n",
    "* Erzeuge aus d eine 2x3 Matrix \n",
    "* Füge b mit der erzeugten Matrix zu einem 3D array zusammen \n",
    "* Lasse die Matrix b aus dem 3D array ausgeben\n"
   ]
  },
  {
   "cell_type": "code",
   "execution_count": null,
   "metadata": {},
   "outputs": [],
   "source": [
    "TODO"
   ]
  }
 ],
 "metadata": {
  "kernelspec": {
   "display_name": "Python (DLfsP)",
   "language": "python",
   "name": "python-dlfsp"
  },
  "language_info": {
   "codemirror_mode": {
    "name": "ipython",
    "version": 3
   },
   "file_extension": ".py",
   "mimetype": "text/x-python",
   "name": "python",
   "nbconvert_exporter": "python",
   "pygments_lexer": "ipython3",
   "version": "3.7.4"
  }
 },
 "nbformat": 4,
 "nbformat_minor": 5
}
