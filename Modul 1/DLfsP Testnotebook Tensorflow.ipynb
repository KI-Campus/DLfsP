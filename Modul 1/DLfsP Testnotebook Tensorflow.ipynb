{
 "cells": [
  {
   "cell_type": "markdown",
   "metadata": {},
   "source": [
    "# Deep Learning für sequentielle Prozessdaten - Testnotebook Tensorflow\n",
    "Kurs Deep Learning für sequentielle Prozessdaten\n",
    "\n",
    "#### Dieses Notebook dient dem Test, ob Tensorflow erfolgreich installiert wurde und eventuelle Grafikkarten erkannt werden.\n",
    "\n"
   ]
  },
  {
   "cell_type": "markdown",
   "metadata": {},
   "source": [
    "### Test Installation Tensorflow"
   ]
  },
  {
   "cell_type": "code",
   "execution_count": null,
   "metadata": {},
   "outputs": [],
   "source": [
    "import tensorflow as tf\n",
    "import sys\n",
    "print('Python version: ' + sys.version)\n",
    "print('TF version: ' + tf.__version__)\n",
    "if tf.test.is_built_with_gpu_support():\n",
    "    if len(tf.config.list_physical_devices('GPU'))==0:\n",
    "        print('Please install GPU version of TF\\n' + 'TF is currently using the CPU')\n",
    "    else:\n",
    "        print('Default GPU Device: {}'.format(tf.config.list_physical_devices('GPU')))\n",
    "else:\n",
    "    print('TF CPU version active')\n"
   ]
  },
  {
   "cell_type": "markdown",
   "metadata": {},
   "source": [
    "### Überprüfung sonstiger Requirements"
   ]
  },
  {
   "cell_type": "code",
   "execution_count": null,
   "metadata": {},
   "outputs": [],
   "source": [
    "from importlib import import_module     \n",
    "\n",
    "libnames = ['numpy', 'pandas', 'matplotlib', 'sklearn', 'openpyxl', 'seaborn']\n",
    "for libname in libnames:\n",
    "    try:\n",
    "        lib = import_module(libname)\n",
    "    except:\n",
    "        print('Bitte, installiere das Paket ' +  libname + ' am besten mit dem Befehl:')\n",
    "        print('conda install ' + libname )"
   ]
  },
  {
   "cell_type": "code",
   "execution_count": null,
   "metadata": {},
   "outputs": [],
   "source": []
  }
 ],
 "metadata": {
  "kernelspec": {
   "display_name": "Python 3",
   "language": "python",
   "name": "python3"
  },
  "language_info": {
   "codemirror_mode": {
    "name": "ipython",
    "version": 3
   },
   "file_extension": ".py",
   "mimetype": "text/x-python",
   "name": "python",
   "nbconvert_exporter": "python",
   "pygments_lexer": "ipython3",
   "version": "3.8.12"
  }
 },
 "nbformat": 4,
 "nbformat_minor": 5
}
